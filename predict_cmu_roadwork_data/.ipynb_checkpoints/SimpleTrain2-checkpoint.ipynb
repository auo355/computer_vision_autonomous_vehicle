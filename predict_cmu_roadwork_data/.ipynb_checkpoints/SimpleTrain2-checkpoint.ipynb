{
 "cells": [
  {
   "cell_type": "markdown",
   "id": "9fc3a32d-e60f-4300-805f-9343ad63e24b",
   "metadata": {},
   "source": [
    "# This is toy experiment which demo how to get the data and use a simplified unet to train and test "
   ]
  },
  {
   "cell_type": "markdown",
   "id": "bd5dce9c-bddb-48e1-b8b2-3d74fd1e4199",
   "metadata": {},
   "source": [
    "### install libraries if not already present. \n",
    "### You can create a suitable anaconda environment for gpu and tensorflow with the code below in a terminal \n",
    "### conda create --name environment_name tensorflow-gpu"
   ]
  },
  {
   "cell_type": "markdown",
   "id": "b271c985-46e9-4ce8-8640-6ec3d123de43",
   "metadata": {},
   "source": [
    "### You can install import libraries needed\n",
    "##### !pip install numpy==1.23.4\n",
    "##### !pip install pandas\n",
    "##### !pip install scikit-learn\n",
    "##### !pip install keras==2.6\n",
    "##### !pip install opencv-python \n",
    "##### !pip install matplotlib\n",
    "##### !pip install tensorflow==2.6.0\n",
    "##### !pip install focal-loss\n",
    "##### !pip install tf-compactprogbar"
   ]
  },
  {
   "cell_type": "markdown",
   "id": "a39ecfad-745c-4d32-9cf6-53eb39f51800",
   "metadata": {},
   "source": [
    "### check if you have gpu"
   ]
  },
  {
   "cell_type": "code",
   "execution_count": 1,
   "id": "e2f6b410-a0f5-4049-887e-e8583ebdacfd",
   "metadata": {},
   "outputs": [],
   "source": [
    "import tensorflow as tf\n",
    "for gpu in tf.config.list_physical_devices(\"GPU\"):\n",
    "    tf.config.experimental.set_memory_growth(gpu, True)"
   ]
  },
  {
   "cell_type": "code",
   "execution_count": 2,
   "id": "6b83443b-074c-473e-b411-d72dbaea64b4",
   "metadata": {},
   "outputs": [
    {
     "name": "stdout",
     "output_type": "stream",
     "text": [
      "Device mapping:\n",
      "/job:localhost/replica:0/task:0/device:GPU:0 -> device: 0, name: NVIDIA GeForce RTX 4050 Laptop GPU, pci bus id: 0000:01:00.0, compute capability: 8.9\n",
      "\n"
     ]
    }
   ],
   "source": [
    "sess = tf.compat.v1.Session(config=tf.compat.v1.ConfigProto(log_device_placement=True))"
   ]
  },
  {
   "cell_type": "markdown",
   "id": "220afdfe-de5a-4961-94c7-961ec88a39a9",
   "metadata": {},
   "source": [
    "### import libraries needed"
   ]
  },
  {
   "cell_type": "code",
   "execution_count": 3,
   "id": "ce4585db-efb9-4e3b-a8fb-fc8e1e821657",
   "metadata": {},
   "outputs": [],
   "source": [
    "import os\n",
    "import numpy as np\n",
    "import pandas as pd\n",
    "import matplotlib.pyplot as plt\n",
    "import cv2\n",
    "import random\n",
    "import tensorflow.keras as keras\n",
    "from tensorflow.keras.utils import load_img, img_to_array, array_to_img, to_categorical\n",
    "from tensorflow.keras.preprocessing import image\n",
    "from focal_loss import SparseCategoricalFocalLoss\n",
    "from tf_compactprogbar import CompactProgressBar\n",
    "progBar = CompactProgressBar(notebook=False)"
   ]
  },
  {
   "cell_type": "markdown",
   "id": "15b3e350-f52a-41b3-8b4d-d64f85fdc0e9",
   "metadata": {},
   "source": [
    "### get function that can extract data from the image and label folder "
   ]
  },
  {
   "cell_type": "code",
   "execution_count": 4,
   "id": "0a174610-1855-4e3a-ab81-c6f0d236e022",
   "metadata": {},
   "outputs": [],
   "source": [
    "from process_cmu_roadwork_data import get_batch_of_image_and_label\n",
    "val_target_path = val_input_path = '../../autoware/Data/Data_May_5th_2025/cmu/sem_seg_labels/gtFine/val/'\n",
    "val_target_filter_type = val_input_filter_type ='_Ids.png'\n"
   ]
  },
  {
   "cell_type": "code",
   "execution_count": 5,
   "id": "f5233eb2-786d-47e1-90c9-91b043455974",
   "metadata": {},
   "outputs": [],
   "source": [
    "label_list = []\n",
    "for i in range(6, 20, 1):\n",
    "    label_list.append( (float(i), float(i), float(i)) )"
   ]
  },
  {
   "cell_type": "markdown",
   "id": "31a3727d-64dd-4260-8d52-4a9fb3ae2a8b",
   "metadata": {},
   "source": [
    "## get data from val folder"
   ]
  },
  {
   "cell_type": "code",
   "execution_count": 6,
   "id": "91a6b0d5-8b00-4e71-a810-156319e97272",
   "metadata": {},
   "outputs": [],
   "source": [
    "img_length = 512\n",
    "img_breadth = 256\n",
    "\n",
    "val_start   = 0\n",
    "val_end     = None\n",
    "\n",
    "[val_input_imgs, val_targets] = get_batch_of_image_and_label(input_path=val_input_path, \n",
    "                             target_path=val_target_path, \n",
    "                             input_filter_type = val_input_filter_type, \n",
    "                             target_filter_type = val_target_filter_type,\n",
    "                             img_length=img_length, \n",
    "                             img_breadth=img_breadth, \n",
    "                             chunkstart=val_start, \n",
    "                             chunkend=val_end  , \n",
    "                             seed=50, \n",
    "                             shuffle=False,\n",
    "                             val_or_train = 'val',\n",
    "                             label_list = label_list,)\n",
    "\n"
   ]
  },
  {
   "cell_type": "code",
   "execution_count": 7,
   "id": "72654eea-b2cf-439d-83d1-d6fd5d207c61",
   "metadata": {},
   "outputs": [
    {
     "data": {
      "text/plain": [
       "2098"
      ]
     },
     "execution_count": 7,
     "metadata": {},
     "output_type": "execute_result"
    }
   ],
   "source": [
    "val_size = len(val_targets)\n",
    "val_size"
   ]
  },
  {
   "cell_type": "markdown",
   "id": "400410e4-2c3e-4111-a6fd-f97e82d769ce",
   "metadata": {},
   "source": [
    "## split val folder data between actual val and actual val "
   ]
  },
  {
   "cell_type": "code",
   "execution_count": 9,
   "id": "61a71780-7c67-4d47-9e33-8fd43df72228",
   "metadata": {},
   "outputs": [],
   "source": [
    "split_point = int(0.5 * val_size)"
   ]
  },
  {
   "cell_type": "code",
   "execution_count": 10,
   "id": "942019a6-1895-479e-bf5a-908706b9037f",
   "metadata": {},
   "outputs": [
    {
     "data": {
      "text/plain": [
       "1049"
      ]
     },
     "execution_count": 10,
     "metadata": {},
     "output_type": "execute_result"
    }
   ],
   "source": [
    "test_input_imgs = val_input_imgs[split_point:]\n",
    "test_targets = val_targets[split_point:]\n",
    "len(test_targets)"
   ]
  },
  {
   "cell_type": "code",
   "execution_count": 11,
   "id": "ebdeb44e-632f-4563-a20a-ebeb9bd1d650",
   "metadata": {},
   "outputs": [
    {
     "data": {
      "text/plain": [
       "1049"
      ]
     },
     "execution_count": 11,
     "metadata": {},
     "output_type": "execute_result"
    }
   ],
   "source": [
    "val_input_imgs = val_input_imgs[ : split_point]\n",
    "val_targets = val_targets[ : split_point]\n",
    "len(val_targets)"
   ]
  },
  {
   "cell_type": "markdown",
   "id": "d1d86c8b-1b48-47ed-bfd3-edcb71200d40",
   "metadata": {},
   "source": [
    "### define model"
   ]
  },
  {
   "cell_type": "code",
   "execution_count": 12,
   "id": "ebf38e4a-6971-4b00-8766-06e1f87790c8",
   "metadata": {},
   "outputs": [],
   "source": [
    "def encoder_block (x_input, number_of_filters, activation):\n",
    "    encoded = keras.layers.SeparableConv2D(number_of_filters, (3,3), padding = 'same')(x_input)\n",
    "    encoded = keras.layers.BatchNormalization()(encoded)\n",
    "    encoded = keras.layers.Activation(activation)(encoded)\n",
    "\n",
    "    encoded = keras.layers.SeparableConv2D(number_of_filters, (3,3), padding = 'same')(encoded)\n",
    "    encoded = keras.layers.BatchNormalization()(encoded)\n",
    "    encoded = keras.layers.Activation(activation)(encoded)\n",
    "\n",
    "    output = keras.layers.MaxPooling2D((2,2))(encoded)\n",
    "    return [encoded, output]\n",
    "\n",
    "def decoder_block (encoded, x_input, number_of_filters, activation):\n",
    "    x_input = keras.layers.Conv2DTranspose(number_of_filters, (2, 2), strides=(2, 2), padding=\"valid\", activation=None)(x_input)\n",
    "    x_input = keras.layers.Concatenate()([x_input, encoded])\n",
    "    \n",
    "    x_input = keras.layers.SeparableConv2D(number_of_filters, (3,3), padding='same')(x_input)\n",
    "    x_input = keras.layers.BatchNormalization()(x_input)\n",
    "    x_input = keras.layers.Activation(activation)(x_input)\n",
    "    \n",
    "    x_input = keras.layers.SeparableConv2D(number_of_filters, (3,3), padding='same')(x_input)\n",
    "    x_input = keras.layers.BatchNormalization()(x_input)\n",
    "    x_input = keras.layers.Activation(activation)(x_input)\n",
    "    return x_input\n",
    "\n",
    "def c_unet_1(img_breadth, img_length, number_of_class,  unit_channel, activation):\n",
    "    inputs = keras.Input(shape = (img_breadth, img_length, 3))\n",
    "    #x = keras.layers.Rescaling(1/255)(inputs)\n",
    "    x = inputs\n",
    "\n",
    "    # encoder layers\n",
    "    [y1, x] = encoder_block(x,  1 * unit_channel, activation)\n",
    "    [y2, x] = encoder_block(x,  2 * unit_channel, activation)\n",
    "    [y3, x] = encoder_block(x,  4 * unit_channel, activation)\n",
    "    [y4, x] = encoder_block(x,  8 * unit_channel, activation)\n",
    "\n",
    "    x = keras.layers.SeparableConv2D( 16 * unit_channel, (3,3), padding='same')(x)\n",
    "    x = keras.layers.BatchNormalization()(x)\n",
    "    x = keras.layers.Activation(activation)(x)\n",
    "    \n",
    "    x = keras.layers.SeparableConv2D( 16 * unit_channel, (3,3), padding='same')(x)\n",
    "    x = keras.layers.BatchNormalization()(x)\n",
    "    x = keras.layers.Activation(activation)(x)\n",
    "\n",
    "    # decoder layers\n",
    "    x = decoder_block (y4, x,  8 * unit_channel, activation)\n",
    "    x = decoder_block (y3, x,  4 * unit_channel, activation)\n",
    "    x = decoder_block (y2, x,  2 * unit_channel, activation)\n",
    "    x = decoder_block (y1, x,  1 * unit_channel, activation)\n",
    "\n",
    "    x = keras.layers.Conv2D(number_of_class, (3,3), activation = 'softmax', padding = 'same')(x)\n",
    "    model = keras.Model(inputs, x)\n",
    "    return model\n",
    "    \n",
    "     \n",
    "    "
   ]
  },
  {
   "cell_type": "code",
   "execution_count": 13,
   "id": "6b7b664c-67ac-4407-905a-1f191ede6d48",
   "metadata": {},
   "outputs": [
    {
     "name": "stdout",
     "output_type": "stream",
     "text": [
      "Model: \"model\"\n",
      "__________________________________________________________________________________________________\n",
      "Layer (type)                    Output Shape         Param #     Connected to                     \n",
      "==================================================================================================\n",
      "input_1 (InputLayer)            [(None, 256, 512, 3) 0                                            \n",
      "__________________________________________________________________________________________________\n",
      "separable_conv2d (SeparableConv (None, 256, 512, 32) 155         input_1[0][0]                    \n",
      "__________________________________________________________________________________________________\n",
      "batch_normalization (BatchNorma (None, 256, 512, 32) 128         separable_conv2d[0][0]           \n",
      "__________________________________________________________________________________________________\n",
      "activation (Activation)         (None, 256, 512, 32) 0           batch_normalization[0][0]        \n",
      "__________________________________________________________________________________________________\n",
      "separable_conv2d_1 (SeparableCo (None, 256, 512, 32) 1344        activation[0][0]                 \n",
      "__________________________________________________________________________________________________\n",
      "batch_normalization_1 (BatchNor (None, 256, 512, 32) 128         separable_conv2d_1[0][0]         \n",
      "__________________________________________________________________________________________________\n",
      "activation_1 (Activation)       (None, 256, 512, 32) 0           batch_normalization_1[0][0]      \n",
      "__________________________________________________________________________________________________\n",
      "max_pooling2d (MaxPooling2D)    (None, 128, 256, 32) 0           activation_1[0][0]               \n",
      "__________________________________________________________________________________________________\n",
      "separable_conv2d_2 (SeparableCo (None, 128, 256, 64) 2400        max_pooling2d[0][0]              \n",
      "__________________________________________________________________________________________________\n",
      "batch_normalization_2 (BatchNor (None, 128, 256, 64) 256         separable_conv2d_2[0][0]         \n",
      "__________________________________________________________________________________________________\n",
      "activation_2 (Activation)       (None, 128, 256, 64) 0           batch_normalization_2[0][0]      \n",
      "__________________________________________________________________________________________________\n",
      "separable_conv2d_3 (SeparableCo (None, 128, 256, 64) 4736        activation_2[0][0]               \n",
      "__________________________________________________________________________________________________\n",
      "batch_normalization_3 (BatchNor (None, 128, 256, 64) 256         separable_conv2d_3[0][0]         \n",
      "__________________________________________________________________________________________________\n",
      "activation_3 (Activation)       (None, 128, 256, 64) 0           batch_normalization_3[0][0]      \n",
      "__________________________________________________________________________________________________\n",
      "max_pooling2d_1 (MaxPooling2D)  (None, 64, 128, 64)  0           activation_3[0][0]               \n",
      "__________________________________________________________________________________________________\n",
      "separable_conv2d_4 (SeparableCo (None, 64, 128, 128) 8896        max_pooling2d_1[0][0]            \n",
      "__________________________________________________________________________________________________\n",
      "batch_normalization_4 (BatchNor (None, 64, 128, 128) 512         separable_conv2d_4[0][0]         \n",
      "__________________________________________________________________________________________________\n",
      "activation_4 (Activation)       (None, 64, 128, 128) 0           batch_normalization_4[0][0]      \n",
      "__________________________________________________________________________________________________\n",
      "separable_conv2d_5 (SeparableCo (None, 64, 128, 128) 17664       activation_4[0][0]               \n",
      "__________________________________________________________________________________________________\n",
      "batch_normalization_5 (BatchNor (None, 64, 128, 128) 512         separable_conv2d_5[0][0]         \n",
      "__________________________________________________________________________________________________\n",
      "activation_5 (Activation)       (None, 64, 128, 128) 0           batch_normalization_5[0][0]      \n",
      "__________________________________________________________________________________________________\n",
      "max_pooling2d_2 (MaxPooling2D)  (None, 32, 64, 128)  0           activation_5[0][0]               \n",
      "__________________________________________________________________________________________________\n",
      "separable_conv2d_6 (SeparableCo (None, 32, 64, 256)  34176       max_pooling2d_2[0][0]            \n",
      "__________________________________________________________________________________________________\n",
      "batch_normalization_6 (BatchNor (None, 32, 64, 256)  1024        separable_conv2d_6[0][0]         \n",
      "__________________________________________________________________________________________________\n",
      "activation_6 (Activation)       (None, 32, 64, 256)  0           batch_normalization_6[0][0]      \n",
      "__________________________________________________________________________________________________\n",
      "separable_conv2d_7 (SeparableCo (None, 32, 64, 256)  68096       activation_6[0][0]               \n",
      "__________________________________________________________________________________________________\n",
      "batch_normalization_7 (BatchNor (None, 32, 64, 256)  1024        separable_conv2d_7[0][0]         \n",
      "__________________________________________________________________________________________________\n",
      "activation_7 (Activation)       (None, 32, 64, 256)  0           batch_normalization_7[0][0]      \n",
      "__________________________________________________________________________________________________\n",
      "max_pooling2d_3 (MaxPooling2D)  (None, 16, 32, 256)  0           activation_7[0][0]               \n",
      "__________________________________________________________________________________________________\n",
      "separable_conv2d_8 (SeparableCo (None, 16, 32, 512)  133888      max_pooling2d_3[0][0]            \n",
      "__________________________________________________________________________________________________\n",
      "batch_normalization_8 (BatchNor (None, 16, 32, 512)  2048        separable_conv2d_8[0][0]         \n",
      "__________________________________________________________________________________________________\n",
      "activation_8 (Activation)       (None, 16, 32, 512)  0           batch_normalization_8[0][0]      \n",
      "__________________________________________________________________________________________________\n",
      "separable_conv2d_9 (SeparableCo (None, 16, 32, 512)  267264      activation_8[0][0]               \n",
      "__________________________________________________________________________________________________\n",
      "batch_normalization_9 (BatchNor (None, 16, 32, 512)  2048        separable_conv2d_9[0][0]         \n",
      "__________________________________________________________________________________________________\n",
      "activation_9 (Activation)       (None, 16, 32, 512)  0           batch_normalization_9[0][0]      \n",
      "__________________________________________________________________________________________________\n",
      "conv2d_transpose (Conv2DTranspo (None, 32, 64, 256)  524544      activation_9[0][0]               \n",
      "__________________________________________________________________________________________________\n",
      "concatenate (Concatenate)       (None, 32, 64, 512)  0           conv2d_transpose[0][0]           \n",
      "                                                                 activation_7[0][0]               \n",
      "__________________________________________________________________________________________________\n",
      "separable_conv2d_10 (SeparableC (None, 32, 64, 256)  135936      concatenate[0][0]                \n",
      "__________________________________________________________________________________________________\n",
      "batch_normalization_10 (BatchNo (None, 32, 64, 256)  1024        separable_conv2d_10[0][0]        \n",
      "__________________________________________________________________________________________________\n",
      "activation_10 (Activation)      (None, 32, 64, 256)  0           batch_normalization_10[0][0]     \n",
      "__________________________________________________________________________________________________\n",
      "separable_conv2d_11 (SeparableC (None, 32, 64, 256)  68096       activation_10[0][0]              \n",
      "__________________________________________________________________________________________________\n",
      "batch_normalization_11 (BatchNo (None, 32, 64, 256)  1024        separable_conv2d_11[0][0]        \n",
      "__________________________________________________________________________________________________\n",
      "activation_11 (Activation)      (None, 32, 64, 256)  0           batch_normalization_11[0][0]     \n",
      "__________________________________________________________________________________________________\n",
      "conv2d_transpose_1 (Conv2DTrans (None, 64, 128, 128) 131200      activation_11[0][0]              \n",
      "__________________________________________________________________________________________________\n",
      "concatenate_1 (Concatenate)     (None, 64, 128, 256) 0           conv2d_transpose_1[0][0]         \n",
      "                                                                 activation_5[0][0]               \n",
      "__________________________________________________________________________________________________\n",
      "separable_conv2d_12 (SeparableC (None, 64, 128, 128) 35200       concatenate_1[0][0]              \n",
      "__________________________________________________________________________________________________\n",
      "batch_normalization_12 (BatchNo (None, 64, 128, 128) 512         separable_conv2d_12[0][0]        \n",
      "__________________________________________________________________________________________________\n",
      "activation_12 (Activation)      (None, 64, 128, 128) 0           batch_normalization_12[0][0]     \n",
      "__________________________________________________________________________________________________\n",
      "separable_conv2d_13 (SeparableC (None, 64, 128, 128) 17664       activation_12[0][0]              \n",
      "__________________________________________________________________________________________________\n",
      "batch_normalization_13 (BatchNo (None, 64, 128, 128) 512         separable_conv2d_13[0][0]        \n",
      "__________________________________________________________________________________________________\n",
      "activation_13 (Activation)      (None, 64, 128, 128) 0           batch_normalization_13[0][0]     \n",
      "__________________________________________________________________________________________________\n",
      "conv2d_transpose_2 (Conv2DTrans (None, 128, 256, 64) 32832       activation_13[0][0]              \n",
      "__________________________________________________________________________________________________\n",
      "concatenate_2 (Concatenate)     (None, 128, 256, 128 0           conv2d_transpose_2[0][0]         \n",
      "                                                                 activation_3[0][0]               \n",
      "__________________________________________________________________________________________________\n",
      "separable_conv2d_14 (SeparableC (None, 128, 256, 64) 9408        concatenate_2[0][0]              \n",
      "__________________________________________________________________________________________________\n",
      "batch_normalization_14 (BatchNo (None, 128, 256, 64) 256         separable_conv2d_14[0][0]        \n",
      "__________________________________________________________________________________________________\n",
      "activation_14 (Activation)      (None, 128, 256, 64) 0           batch_normalization_14[0][0]     \n",
      "__________________________________________________________________________________________________\n",
      "separable_conv2d_15 (SeparableC (None, 128, 256, 64) 4736        activation_14[0][0]              \n",
      "__________________________________________________________________________________________________\n",
      "batch_normalization_15 (BatchNo (None, 128, 256, 64) 256         separable_conv2d_15[0][0]        \n",
      "__________________________________________________________________________________________________\n",
      "activation_15 (Activation)      (None, 128, 256, 64) 0           batch_normalization_15[0][0]     \n",
      "__________________________________________________________________________________________________\n",
      "conv2d_transpose_3 (Conv2DTrans (None, 256, 512, 32) 8224        activation_15[0][0]              \n",
      "__________________________________________________________________________________________________\n",
      "concatenate_3 (Concatenate)     (None, 256, 512, 64) 0           conv2d_transpose_3[0][0]         \n",
      "                                                                 activation_1[0][0]               \n",
      "__________________________________________________________________________________________________\n",
      "separable_conv2d_16 (SeparableC (None, 256, 512, 32) 2656        concatenate_3[0][0]              \n",
      "__________________________________________________________________________________________________\n",
      "batch_normalization_16 (BatchNo (None, 256, 512, 32) 128         separable_conv2d_16[0][0]        \n",
      "__________________________________________________________________________________________________\n",
      "activation_16 (Activation)      (None, 256, 512, 32) 0           batch_normalization_16[0][0]     \n",
      "__________________________________________________________________________________________________\n",
      "separable_conv2d_17 (SeparableC (None, 256, 512, 32) 1344        activation_16[0][0]              \n",
      "__________________________________________________________________________________________________\n",
      "batch_normalization_17 (BatchNo (None, 256, 512, 32) 128         separable_conv2d_17[0][0]        \n",
      "__________________________________________________________________________________________________\n",
      "activation_17 (Activation)      (None, 256, 512, 32) 0           batch_normalization_17[0][0]     \n",
      "__________________________________________________________________________________________________\n",
      "conv2d (Conv2D)                 (None, 256, 512, 2)  578         activation_17[0][0]              \n",
      "==================================================================================================\n",
      "Total params: 1,522,813\n",
      "Trainable params: 1,516,925\n",
      "Non-trainable params: 5,888\n",
      "__________________________________________________________________________________________________\n"
     ]
    }
   ],
   "source": [
    "number_of_class = 2\n",
    "unit_channel = 32\n",
    "model = c_unet_1(img_breadth, img_length, number_of_class, unit_channel, activation=\"silu\")\n",
    "model.summary()"
   ]
  },
  {
   "cell_type": "code",
   "execution_count": 14,
   "id": "b0b76a09-ed68-4f22-bf9c-dbd2b9665c63",
   "metadata": {},
   "outputs": [],
   "source": [
    "name_of_model_file = \"model1.keras\""
   ]
  },
  {
   "cell_type": "code",
   "execution_count": 16,
   "id": "2d016973-71b9-4f31-8775-cc4bc057d99f",
   "metadata": {},
   "outputs": [],
   "source": [
    "\n",
    "###### k_loss = SparseCategoricalFocalLoss(gamma=2)\n",
    "##### k_loss = 'sparse_categorical_crossentropy'\n",
    "\n",
    "class_weight_list=[1, 3]\n",
    "\n",
    "k_loss = SparseCategoricalFocalLoss(gamma=2, class_weight=class_weight_list)\n",
    "\n",
    "model.compile(loss = k_loss, \n",
    "              optimizer = 'adam')\n",
    "\n",
    "callbacks = [\n",
    "    keras.callbacks.ModelCheckpoint(name_of_model_file, \n",
    "    save_best_only = True),\n",
    "    progBar\n",
    "]"
   ]
  },
  {
   "cell_type": "markdown",
   "id": "a21b7ea8-bbd5-41f4-bfce-ef3c0d02fa07",
   "metadata": {},
   "source": [
    "### first load model if already available\n"
   ]
  },
  {
   "cell_type": "code",
   "execution_count": 17,
   "id": "40369bc7-9264-42c9-aa1a-acb5ad325e21",
   "metadata": {},
   "outputs": [
    {
     "name": "stdout",
     "output_type": "stream",
     "text": [
      "model not yet available\n"
     ]
    }
   ],
   "source": [
    "import os \n",
    "  \n",
    "path = name_of_model_file\n",
    "isExist = os.path.exists(path) \n",
    "if(isExist):\n",
    "    model = keras.models.load_model(name_of_model_file)\n",
    "else:\n",
    "    print(\"model not yet available\")"
   ]
  },
  {
   "cell_type": "markdown",
   "id": "0fb71783-0a32-4041-8bb5-c5af473d0fed",
   "metadata": {},
   "source": [
    "### break the data into chunks before training with gpu because of gpu's memory limitation"
   ]
  },
  {
   "cell_type": "code",
   "execution_count": 18,
   "id": "3e132110-5591-437d-af96-e6b0b798fab1",
   "metadata": {},
   "outputs": [],
   "source": [
    "import gc\n",
    "outer_batch_size = 256\n",
    "train_start  = 0\n",
    "train_end   = 5319 \n",
    "\n",
    "train_target_path = train_input_path = '../../autoware/Data/Data_May_5th_2025/cmu/sem_seg_labels/gtFine/train/'\n",
    "train_target_filter_type = train_input_filter_type ='_Ids.png'\n",
    "\n",
    "def phase_train():\n",
    "    for i in range (train_start, train_end, outer_batch_size):\n",
    "        gc.collect()\n",
    "\n",
    "        [x,y] = get_batch_of_image_and_label(input_path = train_input_path, \n",
    "                             target_path = train_target_path, \n",
    "                             input_filter_type = train_input_filter_type, \n",
    "                             target_filter_type = train_target_filter_type,\n",
    "                             img_length = img_length, \n",
    "                             img_breadth = img_breadth, \n",
    "                             chunkstart = i, \n",
    "                             chunkend = i + outer_batch_size  , \n",
    "                             seed = 123, \n",
    "                             shuffle = False,\n",
    "                             val_or_train = 'train',\n",
    "                             label_list = label_list)\n",
    "            \n",
    "        history = model.fit(x, y,\n",
    "                    epochs = 10,\n",
    "                    callbacks = callbacks,\n",
    "                    batch_size = 2,\n",
    "                    validation_data=(val_input_imgs, val_targets),\n",
    "                    verbose=0)\n"
   ]
  },
  {
   "cell_type": "code",
   "execution_count": null,
   "id": "97a90d53-665b-45ad-aaba-eebfe072e6f5",
   "metadata": {},
   "outputs": [
    {
     "name": "stderr",
     "output_type": "stream",
     "text": [
      "[Training]:  90%|█▊| 9/10 [07:07<00:43, 43.34s/it, loss=0.0883, val_loss=0.126, best_loss=0.0883, best_val_loss=0.0939]"
     ]
    }
   ],
   "source": [
    "phase_train()"
   ]
  },
  {
   "cell_type": "markdown",
   "id": "b74ebdd7-d117-4c84-94e3-5c1b56ddcef3",
   "metadata": {},
   "source": [
    "### make prediction"
   ]
  },
  {
   "cell_type": "code",
   "execution_count": null,
   "id": "0390c30d-307c-431a-804d-d4f37485d70b",
   "metadata": {},
   "outputs": [],
   "source": [
    "i=10\n",
    "test_image = val_input_imgs[i]\n",
    "plt.axis(\"off\")\n",
    "plt.imshow(array_to_img(test_image))"
   ]
  },
  {
   "cell_type": "code",
   "execution_count": null,
   "id": "f2f3d671-f0c2-466c-a4d5-7752f1e94c70",
   "metadata": {},
   "outputs": [],
   "source": [
    "model = keras.models.load_model(name_of_model_file)\n",
    "mask = model.predict(np.expand_dims(test_image, 0))[0]"
   ]
  },
  {
   "cell_type": "code",
   "execution_count": null,
   "id": "ae4120f8-0021-46f2-85a2-77336868e0d3",
   "metadata": {},
   "outputs": [],
   "source": [
    "def display_predicted_mask(mask):\n",
    "    mask = np.argmax(mask, axis=-1)\n",
    "    plt.imshow(mask)\n",
    "\n",
    "display_predicted_mask(mask)"
   ]
  },
  {
   "cell_type": "code",
   "execution_count": null,
   "id": "938c7a2a-d281-4fb1-851a-473646328faa",
   "metadata": {},
   "outputs": [],
   "source": [
    "plt.imshow(val_targets[i])"
   ]
  },
  {
   "cell_type": "code",
   "execution_count": null,
   "id": "1e70e84b-2fec-4fb5-b780-e2fa40c83da8",
   "metadata": {},
   "outputs": [],
   "source": []
  },
  {
   "cell_type": "markdown",
   "id": "aec0a2b9-2074-4ba9-b033-7c59e05d9932",
   "metadata": {},
   "source": [
    "### ******************************************************************************** ####"
   ]
  },
  {
   "cell_type": "code",
   "execution_count": null,
   "id": "7d81ad8f-6b94-46cc-868d-77c0c06072f3",
   "metadata": {},
   "outputs": [],
   "source": [
    "i=0\n",
    "test_image = test_input_imgs[i]\n",
    "plt.axis(\"off\")\n",
    "plt.imshow(array_to_img(test_image))"
   ]
  },
  {
   "cell_type": "code",
   "execution_count": null,
   "id": "0f5bede8-7327-47e6-9ec5-c7a71b58ea86",
   "metadata": {},
   "outputs": [],
   "source": [
    "model = keras.models.load_model(name_of_model_file)\n",
    "mask = model.predict(np.expand_dims(test_image, 0))[0]"
   ]
  },
  {
   "cell_type": "code",
   "execution_count": null,
   "id": "925ad4d8-5071-4987-bab2-68bd417ac107",
   "metadata": {},
   "outputs": [],
   "source": [
    "def display_predicted_mask(mask):\n",
    "    mask = np.argmax(mask, axis=-1)\n",
    "    plt.imshow(mask)\n",
    "\n",
    "display_predicted_mask(mask)"
   ]
  },
  {
   "cell_type": "code",
   "execution_count": null,
   "id": "f9e43ca9-1e0c-4348-8c0d-0cd9da0b1184",
   "metadata": {},
   "outputs": [],
   "source": [
    "plt.imshow(test_targets[i])"
   ]
  },
  {
   "cell_type": "code",
   "execution_count": null,
   "id": "020e35ce-e823-45af-9a00-02d569832f8e",
   "metadata": {},
   "outputs": [],
   "source": [
    "i=5\n",
    "test_image = test_input_imgs[i]\n",
    "plt.axis(\"off\")\n",
    "plt.imshow(array_to_img(test_image))"
   ]
  },
  {
   "cell_type": "code",
   "execution_count": null,
   "id": "6e4b9f8f-f5f3-45db-b1dc-6cb7e18e585c",
   "metadata": {},
   "outputs": [],
   "source": [
    "model = keras.models.load_model(name_of_model_file)\n",
    "mask = model.predict(np.expand_dims(test_image, 0))[0]"
   ]
  },
  {
   "cell_type": "code",
   "execution_count": null,
   "id": "9c2622ff-da2e-4562-85cb-9c0e7e72c887",
   "metadata": {},
   "outputs": [],
   "source": [
    "def display_predicted_mask(mask):\n",
    "    mask = np.argmax(mask, axis=-1)\n",
    "    plt.imshow(mask)\n",
    "\n",
    "display_predicted_mask(mask)"
   ]
  },
  {
   "cell_type": "code",
   "execution_count": null,
   "id": "c0c1ba6c-d071-4d6f-a9d4-1e4d13564bb1",
   "metadata": {},
   "outputs": [],
   "source": [
    "plt.imshow(test_targets[i])"
   ]
  },
  {
   "cell_type": "code",
   "execution_count": null,
   "id": "472d2af0-5235-45f0-babf-9da29a016736",
   "metadata": {},
   "outputs": [],
   "source": []
  },
  {
   "cell_type": "code",
   "execution_count": null,
   "id": "59805c83-ea60-4ae7-a295-4d04cbab9fec",
   "metadata": {},
   "outputs": [],
   "source": []
  },
  {
   "cell_type": "code",
   "execution_count": null,
   "id": "e3fa0694-0c72-4ddb-b3af-c311b62947e2",
   "metadata": {},
   "outputs": [],
   "source": []
  }
 ],
 "metadata": {
  "kernelspec": {
   "display_name": "Python 3 (ipykernel)",
   "language": "python",
   "name": "python3"
  },
  "language_info": {
   "codemirror_mode": {
    "name": "ipython",
    "version": 3
   },
   "file_extension": ".py",
   "mimetype": "text/x-python",
   "name": "python",
   "nbconvert_exporter": "python",
   "pygments_lexer": "ipython3",
   "version": "3.9.18"
  }
 },
 "nbformat": 4,
 "nbformat_minor": 5
}
